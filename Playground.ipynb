{
 "cells": [
  {
   "cell_type": "code",
   "execution_count": 1,
   "metadata": {},
   "outputs": [],
   "source": [
    "import time\n",
    "import mujoco\n",
    "import mujoco.viewer"
   ]
  },
  {
   "cell_type": "code",
   "execution_count": 2,
   "metadata": {},
   "outputs": [],
   "source": [
    "n_frames = 60\n",
    "height = 300\n",
    "width = 480\n",
    "k1, k2 = 5, 1\n",
    "frames = []"
   ]
  },
  {
   "cell_type": "code",
   "execution_count": 3,
   "metadata": {},
   "outputs": [],
   "source": [
    "with open('system.xml') as f:\n",
    "    model = mujoco.MjModel.from_xml_string(f.read())\n",
    "data = mujoco.MjData(model)\n",
    "renderer = mujoco.Renderer(model, height, width)\n",
    "mujoco.mj_resetData(model, data)\n",
    "mujoco.mj_resetDataKeyframe(model, data, 0)\n",
    "\n",
    "with mujoco.viewer.launch_passive(model, data) as viewer:\n",
    "  # Close the viewer automatically after 30 wall-seconds.\n",
    "  start = time.time()\n",
    "  integral = 0\n",
    "  while viewer.is_running() and time.time() - start < 300:\n",
    "    step_start = time.time()\n",
    "    mujoco.mj_step(model, data)\n",
    "    x_current = data.sensor('sensor').data.copy()[0]\n",
    "    integral += x_current * model.opt.timestep\n",
    "    cntrl= -k1 * x_current -k2 * integral\n",
    "    data.ctrl[0] = cntrl\n",
    "    with viewer.lock():\n",
    "      viewer.opt.flags[mujoco.mjtVisFlag.mjVIS_CONTACTPOINT] = int(data.time % 2)\n",
    "    viewer.sync()\n",
    "    time_until_next_step = model.opt.timestep - (time.time() - step_start)\n",
    "    if time_until_next_step > 0:\n",
    "      time.sleep(time_until_next_step)"
   ]
  }
 ],
 "metadata": {
  "kernelspec": {
   "display_name": "Python 3",
   "language": "python",
   "name": "python3"
  },
  "language_info": {
   "codemirror_mode": {
    "name": "ipython",
    "version": 3
   },
   "file_extension": ".py",
   "mimetype": "text/x-python",
   "name": "python",
   "nbconvert_exporter": "python",
   "pygments_lexer": "ipython3",
   "version": "3.10.12"
  }
 },
 "nbformat": 4,
 "nbformat_minor": 2
}
